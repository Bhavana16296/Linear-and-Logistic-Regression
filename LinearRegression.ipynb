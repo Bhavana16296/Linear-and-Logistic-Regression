{
 "cells": [
  {
   "cell_type": "code",
   "execution_count": 1,
   "metadata": {},
   "outputs": [],
   "source": [
    "import pandas as pd\n",
    "import numpy as np\n",
    "import seaborn as sb\n",
    "import matplotlib.pyplot as plt\n",
    "from random import randrange\n",
    "from sklearn.preprocessing import StandardScaler\n",
    "from sklearn.model_selection import train_test_split"
   ]
  },
  {
   "cell_type": "code",
   "execution_count": 2,
   "metadata": {
    "scrolled": true
   },
   "outputs": [
    {
     "name": "stdout",
     "output_type": "stream",
     "text": [
      "   MWG  NWG  KWG  MDIMC  NDIMC  MDIMA  NDIMB  KWI  VWM  VWN  STRM  STRN  SA  \\\n",
      "0   16   16   16      8      8      8      8    2    1    1     0     0   0   \n",
      "1   16   16   16      8      8      8      8    2    1    1     0     0   0   \n",
      "2   16   16   16      8      8      8      8    2    1    1     0     0   1   \n",
      "3   16   16   16      8      8      8      8    2    1    1     0     0   1   \n",
      "4   16   16   16      8      8      8      8    2    1    1     0     1   0   \n",
      "\n",
      "   SB  Run1 (ms)  Run2 (ms)  Run3 (ms)  Run4 (ms)  \n",
      "0   0     115.26     115.87     118.55     115.80  \n",
      "1   1      78.13      78.25      79.25      79.19  \n",
      "2   0      79.84      80.69      80.76      80.97  \n",
      "3   1      84.32      89.90      86.75      85.58  \n",
      "4   0     115.13     121.98     122.73     114.81  \n"
     ]
    }
   ],
   "source": [
    "#importing the dataset\n",
    "\n",
    "data = pd.read_csv(\"data.csv\")\n",
    "print(data.head())"
   ]
  },
  {
   "cell_type": "code",
   "execution_count": 4,
   "metadata": {
    "scrolled": true
   },
   "outputs": [],
   "source": [
    "#Calculating  the average of four runs as the target variable\n",
    "columns = ['Run1 (ms)','Run2 (ms)','Run3 (ms)','Run4 (ms)']\n",
    "df = data[columns].to_numpy()\n",
    "a= df.mean(axis = 1)\n",
    "#data.head()\n",
    "\n",
    "#Removing the last 4 run columns\n",
    "datax = data.drop(['Run1 (ms)','Run2 (ms)','Run3 (ms)','Run4 (ms)'],axis = 1)\n",
    "#datax.head()\n",
    "datax['Runs'] = a"
   ]
  },
  {
   "cell_type": "code",
   "execution_count": 53,
   "metadata": {},
   "outputs": [
    {
     "data": {
      "text/html": [
       "<style  type=\"text/css\" >\n",
       "    #T_68b37162_4ebc_11ea_bd0d_98af6526b7f8row0_col0 {\n",
       "            background-color:  #053061;\n",
       "            color:  #f1f1f1;\n",
       "        }    #T_68b37162_4ebc_11ea_bd0d_98af6526b7f8row0_col1 {\n",
       "            background-color:  #cc4c44;\n",
       "            color:  #f1f1f1;\n",
       "        }    #T_68b37162_4ebc_11ea_bd0d_98af6526b7f8row0_col2 {\n",
       "            background-color:  #cf5246;\n",
       "            color:  #000000;\n",
       "        }    #T_68b37162_4ebc_11ea_bd0d_98af6526b7f8row0_col3 {\n",
       "            background-color:  #e8896c;\n",
       "            color:  #000000;\n",
       "        }    #T_68b37162_4ebc_11ea_bd0d_98af6526b7f8row0_col4 {\n",
       "            background-color:  #c94741;\n",
       "            color:  #f1f1f1;\n",
       "        }    #T_68b37162_4ebc_11ea_bd0d_98af6526b7f8row0_col5 {\n",
       "            background-color:  #f4a683;\n",
       "            color:  #000000;\n",
       "        }    #T_68b37162_4ebc_11ea_bd0d_98af6526b7f8row0_col6 {\n",
       "            background-color:  #d05548;\n",
       "            color:  #000000;\n",
       "        }    #T_68b37162_4ebc_11ea_bd0d_98af6526b7f8row0_col7 {\n",
       "            background-color:  #cc4c44;\n",
       "            color:  #f1f1f1;\n",
       "        }    #T_68b37162_4ebc_11ea_bd0d_98af6526b7f8row0_col8 {\n",
       "            background-color:  #f9eee7;\n",
       "            color:  #000000;\n",
       "        }    #T_68b37162_4ebc_11ea_bd0d_98af6526b7f8row0_col9 {\n",
       "            background-color:  #cc4c44;\n",
       "            color:  #f1f1f1;\n",
       "        }    #T_68b37162_4ebc_11ea_bd0d_98af6526b7f8row1_col0 {\n",
       "            background-color:  #cc4c44;\n",
       "            color:  #f1f1f1;\n",
       "        }    #T_68b37162_4ebc_11ea_bd0d_98af6526b7f8row1_col1 {\n",
       "            background-color:  #053061;\n",
       "            color:  #f1f1f1;\n",
       "        }    #T_68b37162_4ebc_11ea_bd0d_98af6526b7f8row1_col2 {\n",
       "            background-color:  #cf5246;\n",
       "            color:  #000000;\n",
       "        }    #T_68b37162_4ebc_11ea_bd0d_98af6526b7f8row1_col3 {\n",
       "            background-color:  #c94741;\n",
       "            color:  #f1f1f1;\n",
       "        }    #T_68b37162_4ebc_11ea_bd0d_98af6526b7f8row1_col4 {\n",
       "            background-color:  #e8896c;\n",
       "            color:  #000000;\n",
       "        }    #T_68b37162_4ebc_11ea_bd0d_98af6526b7f8row1_col5 {\n",
       "            background-color:  #d05548;\n",
       "            color:  #000000;\n",
       "        }    #T_68b37162_4ebc_11ea_bd0d_98af6526b7f8row1_col6 {\n",
       "            background-color:  #f4a683;\n",
       "            color:  #000000;\n",
       "        }    #T_68b37162_4ebc_11ea_bd0d_98af6526b7f8row1_col7 {\n",
       "            background-color:  #cc4c44;\n",
       "            color:  #f1f1f1;\n",
       "        }    #T_68b37162_4ebc_11ea_bd0d_98af6526b7f8row1_col8 {\n",
       "            background-color:  #cc4c44;\n",
       "            color:  #f1f1f1;\n",
       "        }    #T_68b37162_4ebc_11ea_bd0d_98af6526b7f8row1_col9 {\n",
       "            background-color:  #f9eee7;\n",
       "            color:  #000000;\n",
       "        }    #T_68b37162_4ebc_11ea_bd0d_98af6526b7f8row2_col0 {\n",
       "            background-color:  #cf5246;\n",
       "            color:  #000000;\n",
       "        }    #T_68b37162_4ebc_11ea_bd0d_98af6526b7f8row2_col1 {\n",
       "            background-color:  #cf5246;\n",
       "            color:  #000000;\n",
       "        }    #T_68b37162_4ebc_11ea_bd0d_98af6526b7f8row2_col2 {\n",
       "            background-color:  #053061;\n",
       "            color:  #f1f1f1;\n",
       "        }    #T_68b37162_4ebc_11ea_bd0d_98af6526b7f8row2_col3 {\n",
       "            background-color:  #f2a17f;\n",
       "            color:  #000000;\n",
       "        }    #T_68b37162_4ebc_11ea_bd0d_98af6526b7f8row2_col4 {\n",
       "            background-color:  #f2a17f;\n",
       "            color:  #000000;\n",
       "        }    #T_68b37162_4ebc_11ea_bd0d_98af6526b7f8row2_col5 {\n",
       "            background-color:  #c2383a;\n",
       "            color:  #f1f1f1;\n",
       "        }    #T_68b37162_4ebc_11ea_bd0d_98af6526b7f8row2_col6 {\n",
       "            background-color:  #c2383a;\n",
       "            color:  #f1f1f1;\n",
       "        }    #T_68b37162_4ebc_11ea_bd0d_98af6526b7f8row2_col7 {\n",
       "            background-color:  #cc4c44;\n",
       "            color:  #f1f1f1;\n",
       "        }    #T_68b37162_4ebc_11ea_bd0d_98af6526b7f8row2_col8 {\n",
       "            background-color:  #c84440;\n",
       "            color:  #f1f1f1;\n",
       "        }    #T_68b37162_4ebc_11ea_bd0d_98af6526b7f8row2_col9 {\n",
       "            background-color:  #c84440;\n",
       "            color:  #f1f1f1;\n",
       "        }    #T_68b37162_4ebc_11ea_bd0d_98af6526b7f8row3_col0 {\n",
       "            background-color:  #e8896c;\n",
       "            color:  #000000;\n",
       "        }    #T_68b37162_4ebc_11ea_bd0d_98af6526b7f8row3_col1 {\n",
       "            background-color:  #c94741;\n",
       "            color:  #f1f1f1;\n",
       "        }    #T_68b37162_4ebc_11ea_bd0d_98af6526b7f8row3_col2 {\n",
       "            background-color:  #f2a17f;\n",
       "            color:  #000000;\n",
       "        }    #T_68b37162_4ebc_11ea_bd0d_98af6526b7f8row3_col3 {\n",
       "            background-color:  #053061;\n",
       "            color:  #f1f1f1;\n",
       "        }    #T_68b37162_4ebc_11ea_bd0d_98af6526b7f8row3_col4 {\n",
       "            background-color:  #67001f;\n",
       "            color:  #f1f1f1;\n",
       "        }    #T_68b37162_4ebc_11ea_bd0d_98af6526b7f8row3_col5 {\n",
       "            background-color:  #f7b99c;\n",
       "            color:  #000000;\n",
       "        }    #T_68b37162_4ebc_11ea_bd0d_98af6526b7f8row3_col6 {\n",
       "            background-color:  #e37e64;\n",
       "            color:  #000000;\n",
       "        }    #T_68b37162_4ebc_11ea_bd0d_98af6526b7f8row3_col7 {\n",
       "            background-color:  #cc4c44;\n",
       "            color:  #f1f1f1;\n",
       "        }    #T_68b37162_4ebc_11ea_bd0d_98af6526b7f8row3_col8 {\n",
       "            background-color:  #960f27;\n",
       "            color:  #f1f1f1;\n",
       "        }    #T_68b37162_4ebc_11ea_bd0d_98af6526b7f8row3_col9 {\n",
       "            background-color:  #cf5246;\n",
       "            color:  #000000;\n",
       "        }    #T_68b37162_4ebc_11ea_bd0d_98af6526b7f8row4_col0 {\n",
       "            background-color:  #c94741;\n",
       "            color:  #f1f1f1;\n",
       "        }    #T_68b37162_4ebc_11ea_bd0d_98af6526b7f8row4_col1 {\n",
       "            background-color:  #e8896c;\n",
       "            color:  #000000;\n",
       "        }    #T_68b37162_4ebc_11ea_bd0d_98af6526b7f8row4_col2 {\n",
       "            background-color:  #f2a17f;\n",
       "            color:  #000000;\n",
       "        }    #T_68b37162_4ebc_11ea_bd0d_98af6526b7f8row4_col3 {\n",
       "            background-color:  #67001f;\n",
       "            color:  #f1f1f1;\n",
       "        }    #T_68b37162_4ebc_11ea_bd0d_98af6526b7f8row4_col4 {\n",
       "            background-color:  #053061;\n",
       "            color:  #f1f1f1;\n",
       "        }    #T_68b37162_4ebc_11ea_bd0d_98af6526b7f8row4_col5 {\n",
       "            background-color:  #e37e64;\n",
       "            color:  #000000;\n",
       "        }    #T_68b37162_4ebc_11ea_bd0d_98af6526b7f8row4_col6 {\n",
       "            background-color:  #f7b99c;\n",
       "            color:  #000000;\n",
       "        }    #T_68b37162_4ebc_11ea_bd0d_98af6526b7f8row4_col7 {\n",
       "            background-color:  #cc4c44;\n",
       "            color:  #f1f1f1;\n",
       "        }    #T_68b37162_4ebc_11ea_bd0d_98af6526b7f8row4_col8 {\n",
       "            background-color:  #cf5246;\n",
       "            color:  #000000;\n",
       "        }    #T_68b37162_4ebc_11ea_bd0d_98af6526b7f8row4_col9 {\n",
       "            background-color:  #960f27;\n",
       "            color:  #f1f1f1;\n",
       "        }    #T_68b37162_4ebc_11ea_bd0d_98af6526b7f8row5_col0 {\n",
       "            background-color:  #f4a683;\n",
       "            color:  #000000;\n",
       "        }    #T_68b37162_4ebc_11ea_bd0d_98af6526b7f8row5_col1 {\n",
       "            background-color:  #d05548;\n",
       "            color:  #000000;\n",
       "        }    #T_68b37162_4ebc_11ea_bd0d_98af6526b7f8row5_col2 {\n",
       "            background-color:  #c2383a;\n",
       "            color:  #f1f1f1;\n",
       "        }    #T_68b37162_4ebc_11ea_bd0d_98af6526b7f8row5_col3 {\n",
       "            background-color:  #f7b99c;\n",
       "            color:  #000000;\n",
       "        }    #T_68b37162_4ebc_11ea_bd0d_98af6526b7f8row5_col4 {\n",
       "            background-color:  #e37e64;\n",
       "            color:  #000000;\n",
       "        }    #T_68b37162_4ebc_11ea_bd0d_98af6526b7f8row5_col5 {\n",
       "            background-color:  #053061;\n",
       "            color:  #f1f1f1;\n",
       "        }    #T_68b37162_4ebc_11ea_bd0d_98af6526b7f8row5_col6 {\n",
       "            background-color:  #e48066;\n",
       "            color:  #000000;\n",
       "        }    #T_68b37162_4ebc_11ea_bd0d_98af6526b7f8row5_col7 {\n",
       "            background-color:  #cc4c44;\n",
       "            color:  #f1f1f1;\n",
       "        }    #T_68b37162_4ebc_11ea_bd0d_98af6526b7f8row5_col8 {\n",
       "            background-color:  #6a011f;\n",
       "            color:  #f1f1f1;\n",
       "        }    #T_68b37162_4ebc_11ea_bd0d_98af6526b7f8row5_col9 {\n",
       "            background-color:  #c6413e;\n",
       "            color:  #f1f1f1;\n",
       "        }    #T_68b37162_4ebc_11ea_bd0d_98af6526b7f8row6_col0 {\n",
       "            background-color:  #d05548;\n",
       "            color:  #000000;\n",
       "        }    #T_68b37162_4ebc_11ea_bd0d_98af6526b7f8row6_col1 {\n",
       "            background-color:  #f4a683;\n",
       "            color:  #000000;\n",
       "        }    #T_68b37162_4ebc_11ea_bd0d_98af6526b7f8row6_col2 {\n",
       "            background-color:  #c2383a;\n",
       "            color:  #f1f1f1;\n",
       "        }    #T_68b37162_4ebc_11ea_bd0d_98af6526b7f8row6_col3 {\n",
       "            background-color:  #e37e64;\n",
       "            color:  #000000;\n",
       "        }    #T_68b37162_4ebc_11ea_bd0d_98af6526b7f8row6_col4 {\n",
       "            background-color:  #f7b99c;\n",
       "            color:  #000000;\n",
       "        }    #T_68b37162_4ebc_11ea_bd0d_98af6526b7f8row6_col5 {\n",
       "            background-color:  #e48066;\n",
       "            color:  #000000;\n",
       "        }    #T_68b37162_4ebc_11ea_bd0d_98af6526b7f8row6_col6 {\n",
       "            background-color:  #053061;\n",
       "            color:  #f1f1f1;\n",
       "        }    #T_68b37162_4ebc_11ea_bd0d_98af6526b7f8row6_col7 {\n",
       "            background-color:  #cc4c44;\n",
       "            color:  #f1f1f1;\n",
       "        }    #T_68b37162_4ebc_11ea_bd0d_98af6526b7f8row6_col8 {\n",
       "            background-color:  #c6413e;\n",
       "            color:  #f1f1f1;\n",
       "        }    #T_68b37162_4ebc_11ea_bd0d_98af6526b7f8row6_col9 {\n",
       "            background-color:  #6a011f;\n",
       "            color:  #f1f1f1;\n",
       "        }    #T_68b37162_4ebc_11ea_bd0d_98af6526b7f8row7_col0 {\n",
       "            background-color:  #cc4c44;\n",
       "            color:  #f1f1f1;\n",
       "        }    #T_68b37162_4ebc_11ea_bd0d_98af6526b7f8row7_col1 {\n",
       "            background-color:  #cc4c44;\n",
       "            color:  #f1f1f1;\n",
       "        }    #T_68b37162_4ebc_11ea_bd0d_98af6526b7f8row7_col2 {\n",
       "            background-color:  #cc4c44;\n",
       "            color:  #f1f1f1;\n",
       "        }    #T_68b37162_4ebc_11ea_bd0d_98af6526b7f8row7_col3 {\n",
       "            background-color:  #cc4c44;\n",
       "            color:  #f1f1f1;\n",
       "        }    #T_68b37162_4ebc_11ea_bd0d_98af6526b7f8row7_col4 {\n",
       "            background-color:  #cc4c44;\n",
       "            color:  #f1f1f1;\n",
       "        }    #T_68b37162_4ebc_11ea_bd0d_98af6526b7f8row7_col5 {\n",
       "            background-color:  #cc4c44;\n",
       "            color:  #f1f1f1;\n",
       "        }    #T_68b37162_4ebc_11ea_bd0d_98af6526b7f8row7_col6 {\n",
       "            background-color:  #cc4c44;\n",
       "            color:  #f1f1f1;\n",
       "        }    #T_68b37162_4ebc_11ea_bd0d_98af6526b7f8row7_col7 {\n",
       "            background-color:  #053061;\n",
       "            color:  #f1f1f1;\n",
       "        }    #T_68b37162_4ebc_11ea_bd0d_98af6526b7f8row7_col8 {\n",
       "            background-color:  #cc4c44;\n",
       "            color:  #f1f1f1;\n",
       "        }    #T_68b37162_4ebc_11ea_bd0d_98af6526b7f8row7_col9 {\n",
       "            background-color:  #cc4c44;\n",
       "            color:  #f1f1f1;\n",
       "        }    #T_68b37162_4ebc_11ea_bd0d_98af6526b7f8row8_col0 {\n",
       "            background-color:  #f9eee7;\n",
       "            color:  #000000;\n",
       "        }    #T_68b37162_4ebc_11ea_bd0d_98af6526b7f8row8_col1 {\n",
       "            background-color:  #cc4c44;\n",
       "            color:  #f1f1f1;\n",
       "        }    #T_68b37162_4ebc_11ea_bd0d_98af6526b7f8row8_col2 {\n",
       "            background-color:  #c84440;\n",
       "            color:  #f1f1f1;\n",
       "        }    #T_68b37162_4ebc_11ea_bd0d_98af6526b7f8row8_col3 {\n",
       "            background-color:  #960f27;\n",
       "            color:  #f1f1f1;\n",
       "        }    #T_68b37162_4ebc_11ea_bd0d_98af6526b7f8row8_col4 {\n",
       "            background-color:  #cf5246;\n",
       "            color:  #000000;\n",
       "        }    #T_68b37162_4ebc_11ea_bd0d_98af6526b7f8row8_col5 {\n",
       "            background-color:  #6a011f;\n",
       "            color:  #f1f1f1;\n",
       "        }    #T_68b37162_4ebc_11ea_bd0d_98af6526b7f8row8_col6 {\n",
       "            background-color:  #c6413e;\n",
       "            color:  #f1f1f1;\n",
       "        }    #T_68b37162_4ebc_11ea_bd0d_98af6526b7f8row8_col7 {\n",
       "            background-color:  #cc4c44;\n",
       "            color:  #f1f1f1;\n",
       "        }    #T_68b37162_4ebc_11ea_bd0d_98af6526b7f8row8_col8 {\n",
       "            background-color:  #053061;\n",
       "            color:  #f1f1f1;\n",
       "        }    #T_68b37162_4ebc_11ea_bd0d_98af6526b7f8row8_col9 {\n",
       "            background-color:  #cc4c44;\n",
       "            color:  #f1f1f1;\n",
       "        }    #T_68b37162_4ebc_11ea_bd0d_98af6526b7f8row9_col0 {\n",
       "            background-color:  #cc4c44;\n",
       "            color:  #f1f1f1;\n",
       "        }    #T_68b37162_4ebc_11ea_bd0d_98af6526b7f8row9_col1 {\n",
       "            background-color:  #f9eee7;\n",
       "            color:  #000000;\n",
       "        }    #T_68b37162_4ebc_11ea_bd0d_98af6526b7f8row9_col2 {\n",
       "            background-color:  #c84440;\n",
       "            color:  #f1f1f1;\n",
       "        }    #T_68b37162_4ebc_11ea_bd0d_98af6526b7f8row9_col3 {\n",
       "            background-color:  #cf5246;\n",
       "            color:  #000000;\n",
       "        }    #T_68b37162_4ebc_11ea_bd0d_98af6526b7f8row9_col4 {\n",
       "            background-color:  #960f27;\n",
       "            color:  #f1f1f1;\n",
       "        }    #T_68b37162_4ebc_11ea_bd0d_98af6526b7f8row9_col5 {\n",
       "            background-color:  #c6413e;\n",
       "            color:  #f1f1f1;\n",
       "        }    #T_68b37162_4ebc_11ea_bd0d_98af6526b7f8row9_col6 {\n",
       "            background-color:  #6a011f;\n",
       "            color:  #f1f1f1;\n",
       "        }    #T_68b37162_4ebc_11ea_bd0d_98af6526b7f8row9_col7 {\n",
       "            background-color:  #cc4c44;\n",
       "            color:  #f1f1f1;\n",
       "        }    #T_68b37162_4ebc_11ea_bd0d_98af6526b7f8row9_col8 {\n",
       "            background-color:  #cc4c44;\n",
       "            color:  #f1f1f1;\n",
       "        }    #T_68b37162_4ebc_11ea_bd0d_98af6526b7f8row9_col9 {\n",
       "            background-color:  #053061;\n",
       "            color:  #f1f1f1;\n",
       "        }</style><table id=\"T_68b37162_4ebc_11ea_bd0d_98af6526b7f8\" ><thead>    <tr>        <th class=\"blank level0\" ></th>        <th class=\"col_heading level0 col0\" >MWG</th>        <th class=\"col_heading level0 col1\" >NWG</th>        <th class=\"col_heading level0 col2\" >KWG</th>        <th class=\"col_heading level0 col3\" >MDIMC</th>        <th class=\"col_heading level0 col4\" >NDIMC</th>        <th class=\"col_heading level0 col5\" >MDIMA</th>        <th class=\"col_heading level0 col6\" >NDIMB</th>        <th class=\"col_heading level0 col7\" >KWI</th>        <th class=\"col_heading level0 col8\" >VWM</th>        <th class=\"col_heading level0 col9\" >VWN</th>    </tr></thead><tbody>\n",
       "                <tr>\n",
       "                        <th id=\"T_68b37162_4ebc_11ea_bd0d_98af6526b7f8level0_row0\" class=\"row_heading level0 row0\" >MWG</th>\n",
       "                        <td id=\"T_68b37162_4ebc_11ea_bd0d_98af6526b7f8row0_col0\" class=\"data row0 col0\" >1</td>\n",
       "                        <td id=\"T_68b37162_4ebc_11ea_bd0d_98af6526b7f8row0_col1\" class=\"data row0 col1\" >0.0006</td>\n",
       "                        <td id=\"T_68b37162_4ebc_11ea_bd0d_98af6526b7f8row0_col2\" class=\"data row0 col2\" >0.0093</td>\n",
       "                        <td id=\"T_68b37162_4ebc_11ea_bd0d_98af6526b7f8row0_col3\" class=\"data row0 col3\" >0.11</td>\n",
       "                        <td id=\"T_68b37162_4ebc_11ea_bd0d_98af6526b7f8row0_col4\" class=\"data row0 col4\" >-0.0086</td>\n",
       "                        <td id=\"T_68b37162_4ebc_11ea_bd0d_98af6526b7f8row0_col5\" class=\"data row0 col5\" >0.16</td>\n",
       "                        <td id=\"T_68b37162_4ebc_11ea_bd0d_98af6526b7f8row0_col6\" class=\"data row0 col6\" >0.015</td>\n",
       "                        <td id=\"T_68b37162_4ebc_11ea_bd0d_98af6526b7f8row0_col7\" class=\"data row0 col7\" >0</td>\n",
       "                        <td id=\"T_68b37162_4ebc_11ea_bd0d_98af6526b7f8row0_col8\" class=\"data row0 col8\" >0.35</td>\n",
       "                        <td id=\"T_68b37162_4ebc_11ea_bd0d_98af6526b7f8row0_col9\" class=\"data row0 col9\" >-0.0008</td>\n",
       "            </tr>\n",
       "            <tr>\n",
       "                        <th id=\"T_68b37162_4ebc_11ea_bd0d_98af6526b7f8level0_row1\" class=\"row_heading level0 row1\" >NWG</th>\n",
       "                        <td id=\"T_68b37162_4ebc_11ea_bd0d_98af6526b7f8row1_col0\" class=\"data row1 col0\" >0.0006</td>\n",
       "                        <td id=\"T_68b37162_4ebc_11ea_bd0d_98af6526b7f8row1_col1\" class=\"data row1 col1\" >1</td>\n",
       "                        <td id=\"T_68b37162_4ebc_11ea_bd0d_98af6526b7f8row1_col2\" class=\"data row1 col2\" >0.0093</td>\n",
       "                        <td id=\"T_68b37162_4ebc_11ea_bd0d_98af6526b7f8row1_col3\" class=\"data row1 col3\" >-0.0086</td>\n",
       "                        <td id=\"T_68b37162_4ebc_11ea_bd0d_98af6526b7f8row1_col4\" class=\"data row1 col4\" >0.11</td>\n",
       "                        <td id=\"T_68b37162_4ebc_11ea_bd0d_98af6526b7f8row1_col5\" class=\"data row1 col5\" >0.015</td>\n",
       "                        <td id=\"T_68b37162_4ebc_11ea_bd0d_98af6526b7f8row1_col6\" class=\"data row1 col6\" >0.16</td>\n",
       "                        <td id=\"T_68b37162_4ebc_11ea_bd0d_98af6526b7f8row1_col7\" class=\"data row1 col7\" >0</td>\n",
       "                        <td id=\"T_68b37162_4ebc_11ea_bd0d_98af6526b7f8row1_col8\" class=\"data row1 col8\" >-0.0008</td>\n",
       "                        <td id=\"T_68b37162_4ebc_11ea_bd0d_98af6526b7f8row1_col9\" class=\"data row1 col9\" >0.35</td>\n",
       "            </tr>\n",
       "            <tr>\n",
       "                        <th id=\"T_68b37162_4ebc_11ea_bd0d_98af6526b7f8level0_row2\" class=\"row_heading level0 row2\" >KWG</th>\n",
       "                        <td id=\"T_68b37162_4ebc_11ea_bd0d_98af6526b7f8row2_col0\" class=\"data row2 col0\" >0.0093</td>\n",
       "                        <td id=\"T_68b37162_4ebc_11ea_bd0d_98af6526b7f8row2_col1\" class=\"data row2 col1\" >0.0093</td>\n",
       "                        <td id=\"T_68b37162_4ebc_11ea_bd0d_98af6526b7f8row2_col2\" class=\"data row2 col2\" >1</td>\n",
       "                        <td id=\"T_68b37162_4ebc_11ea_bd0d_98af6526b7f8row2_col3\" class=\"data row2 col3\" >0.15</td>\n",
       "                        <td id=\"T_68b37162_4ebc_11ea_bd0d_98af6526b7f8row2_col4\" class=\"data row2 col4\" >0.15</td>\n",
       "                        <td id=\"T_68b37162_4ebc_11ea_bd0d_98af6526b7f8row2_col5\" class=\"data row2 col5\" >-0.035</td>\n",
       "                        <td id=\"T_68b37162_4ebc_11ea_bd0d_98af6526b7f8row2_col6\" class=\"data row2 col6\" >-0.035</td>\n",
       "                        <td id=\"T_68b37162_4ebc_11ea_bd0d_98af6526b7f8row2_col7\" class=\"data row2 col7\" >-0</td>\n",
       "                        <td id=\"T_68b37162_4ebc_11ea_bd0d_98af6526b7f8row2_col8\" class=\"data row2 col8\" >-0.012</td>\n",
       "                        <td id=\"T_68b37162_4ebc_11ea_bd0d_98af6526b7f8row2_col9\" class=\"data row2 col9\" >-0.012</td>\n",
       "            </tr>\n",
       "            <tr>\n",
       "                        <th id=\"T_68b37162_4ebc_11ea_bd0d_98af6526b7f8level0_row3\" class=\"row_heading level0 row3\" >MDIMC</th>\n",
       "                        <td id=\"T_68b37162_4ebc_11ea_bd0d_98af6526b7f8row3_col0\" class=\"data row3 col0\" >0.11</td>\n",
       "                        <td id=\"T_68b37162_4ebc_11ea_bd0d_98af6526b7f8row3_col1\" class=\"data row3 col1\" >-0.0086</td>\n",
       "                        <td id=\"T_68b37162_4ebc_11ea_bd0d_98af6526b7f8row3_col2\" class=\"data row3 col2\" >0.15</td>\n",
       "                        <td id=\"T_68b37162_4ebc_11ea_bd0d_98af6526b7f8row3_col3\" class=\"data row3 col3\" >1</td>\n",
       "                        <td id=\"T_68b37162_4ebc_11ea_bd0d_98af6526b7f8row3_col4\" class=\"data row3 col4\" >-0.21</td>\n",
       "                        <td id=\"T_68b37162_4ebc_11ea_bd0d_98af6526b7f8row3_col5\" class=\"data row3 col5\" >0.2</td>\n",
       "                        <td id=\"T_68b37162_4ebc_11ea_bd0d_98af6526b7f8row3_col6\" class=\"data row3 col6\" >0.085</td>\n",
       "                        <td id=\"T_68b37162_4ebc_11ea_bd0d_98af6526b7f8row3_col7\" class=\"data row3 col7\" >-0</td>\n",
       "                        <td id=\"T_68b37162_4ebc_11ea_bd0d_98af6526b7f8row3_col8\" class=\"data row3 col8\" >-0.13</td>\n",
       "                        <td id=\"T_68b37162_4ebc_11ea_bd0d_98af6526b7f8row3_col9\" class=\"data row3 col9\" >0.011</td>\n",
       "            </tr>\n",
       "            <tr>\n",
       "                        <th id=\"T_68b37162_4ebc_11ea_bd0d_98af6526b7f8level0_row4\" class=\"row_heading level0 row4\" >NDIMC</th>\n",
       "                        <td id=\"T_68b37162_4ebc_11ea_bd0d_98af6526b7f8row4_col0\" class=\"data row4 col0\" >-0.0086</td>\n",
       "                        <td id=\"T_68b37162_4ebc_11ea_bd0d_98af6526b7f8row4_col1\" class=\"data row4 col1\" >0.11</td>\n",
       "                        <td id=\"T_68b37162_4ebc_11ea_bd0d_98af6526b7f8row4_col2\" class=\"data row4 col2\" >0.15</td>\n",
       "                        <td id=\"T_68b37162_4ebc_11ea_bd0d_98af6526b7f8row4_col3\" class=\"data row4 col3\" >-0.21</td>\n",
       "                        <td id=\"T_68b37162_4ebc_11ea_bd0d_98af6526b7f8row4_col4\" class=\"data row4 col4\" >1</td>\n",
       "                        <td id=\"T_68b37162_4ebc_11ea_bd0d_98af6526b7f8row4_col5\" class=\"data row4 col5\" >0.085</td>\n",
       "                        <td id=\"T_68b37162_4ebc_11ea_bd0d_98af6526b7f8row4_col6\" class=\"data row4 col6\" >0.2</td>\n",
       "                        <td id=\"T_68b37162_4ebc_11ea_bd0d_98af6526b7f8row4_col7\" class=\"data row4 col7\" >-0</td>\n",
       "                        <td id=\"T_68b37162_4ebc_11ea_bd0d_98af6526b7f8row4_col8\" class=\"data row4 col8\" >0.011</td>\n",
       "                        <td id=\"T_68b37162_4ebc_11ea_bd0d_98af6526b7f8row4_col9\" class=\"data row4 col9\" >-0.13</td>\n",
       "            </tr>\n",
       "            <tr>\n",
       "                        <th id=\"T_68b37162_4ebc_11ea_bd0d_98af6526b7f8level0_row5\" class=\"row_heading level0 row5\" >MDIMA</th>\n",
       "                        <td id=\"T_68b37162_4ebc_11ea_bd0d_98af6526b7f8row5_col0\" class=\"data row5 col0\" >0.16</td>\n",
       "                        <td id=\"T_68b37162_4ebc_11ea_bd0d_98af6526b7f8row5_col1\" class=\"data row5 col1\" >0.015</td>\n",
       "                        <td id=\"T_68b37162_4ebc_11ea_bd0d_98af6526b7f8row5_col2\" class=\"data row5 col2\" >-0.035</td>\n",
       "                        <td id=\"T_68b37162_4ebc_11ea_bd0d_98af6526b7f8row5_col3\" class=\"data row5 col3\" >0.2</td>\n",
       "                        <td id=\"T_68b37162_4ebc_11ea_bd0d_98af6526b7f8row5_col4\" class=\"data row5 col4\" >0.085</td>\n",
       "                        <td id=\"T_68b37162_4ebc_11ea_bd0d_98af6526b7f8row5_col5\" class=\"data row5 col5\" >1</td>\n",
       "                        <td id=\"T_68b37162_4ebc_11ea_bd0d_98af6526b7f8row5_col6\" class=\"data row5 col6\" >0.088</td>\n",
       "                        <td id=\"T_68b37162_4ebc_11ea_bd0d_98af6526b7f8row5_col7\" class=\"data row5 col7\" >-0</td>\n",
       "                        <td id=\"T_68b37162_4ebc_11ea_bd0d_98af6526b7f8row5_col8\" class=\"data row5 col8\" >-0.2</td>\n",
       "                        <td id=\"T_68b37162_4ebc_11ea_bd0d_98af6526b7f8row5_col9\" class=\"data row5 col9\" >-0.019</td>\n",
       "            </tr>\n",
       "            <tr>\n",
       "                        <th id=\"T_68b37162_4ebc_11ea_bd0d_98af6526b7f8level0_row6\" class=\"row_heading level0 row6\" >NDIMB</th>\n",
       "                        <td id=\"T_68b37162_4ebc_11ea_bd0d_98af6526b7f8row6_col0\" class=\"data row6 col0\" >0.015</td>\n",
       "                        <td id=\"T_68b37162_4ebc_11ea_bd0d_98af6526b7f8row6_col1\" class=\"data row6 col1\" >0.16</td>\n",
       "                        <td id=\"T_68b37162_4ebc_11ea_bd0d_98af6526b7f8row6_col2\" class=\"data row6 col2\" >-0.035</td>\n",
       "                        <td id=\"T_68b37162_4ebc_11ea_bd0d_98af6526b7f8row6_col3\" class=\"data row6 col3\" >0.085</td>\n",
       "                        <td id=\"T_68b37162_4ebc_11ea_bd0d_98af6526b7f8row6_col4\" class=\"data row6 col4\" >0.2</td>\n",
       "                        <td id=\"T_68b37162_4ebc_11ea_bd0d_98af6526b7f8row6_col5\" class=\"data row6 col5\" >0.088</td>\n",
       "                        <td id=\"T_68b37162_4ebc_11ea_bd0d_98af6526b7f8row6_col6\" class=\"data row6 col6\" >1</td>\n",
       "                        <td id=\"T_68b37162_4ebc_11ea_bd0d_98af6526b7f8row6_col7\" class=\"data row6 col7\" >-0</td>\n",
       "                        <td id=\"T_68b37162_4ebc_11ea_bd0d_98af6526b7f8row6_col8\" class=\"data row6 col8\" >-0.019</td>\n",
       "                        <td id=\"T_68b37162_4ebc_11ea_bd0d_98af6526b7f8row6_col9\" class=\"data row6 col9\" >-0.2</td>\n",
       "            </tr>\n",
       "            <tr>\n",
       "                        <th id=\"T_68b37162_4ebc_11ea_bd0d_98af6526b7f8level0_row7\" class=\"row_heading level0 row7\" >KWI</th>\n",
       "                        <td id=\"T_68b37162_4ebc_11ea_bd0d_98af6526b7f8row7_col0\" class=\"data row7 col0\" >0</td>\n",
       "                        <td id=\"T_68b37162_4ebc_11ea_bd0d_98af6526b7f8row7_col1\" class=\"data row7 col1\" >0</td>\n",
       "                        <td id=\"T_68b37162_4ebc_11ea_bd0d_98af6526b7f8row7_col2\" class=\"data row7 col2\" >-0</td>\n",
       "                        <td id=\"T_68b37162_4ebc_11ea_bd0d_98af6526b7f8row7_col3\" class=\"data row7 col3\" >-0</td>\n",
       "                        <td id=\"T_68b37162_4ebc_11ea_bd0d_98af6526b7f8row7_col4\" class=\"data row7 col4\" >-0</td>\n",
       "                        <td id=\"T_68b37162_4ebc_11ea_bd0d_98af6526b7f8row7_col5\" class=\"data row7 col5\" >-0</td>\n",
       "                        <td id=\"T_68b37162_4ebc_11ea_bd0d_98af6526b7f8row7_col6\" class=\"data row7 col6\" >-0</td>\n",
       "                        <td id=\"T_68b37162_4ebc_11ea_bd0d_98af6526b7f8row7_col7\" class=\"data row7 col7\" >1</td>\n",
       "                        <td id=\"T_68b37162_4ebc_11ea_bd0d_98af6526b7f8row7_col8\" class=\"data row7 col8\" >-0</td>\n",
       "                        <td id=\"T_68b37162_4ebc_11ea_bd0d_98af6526b7f8row7_col9\" class=\"data row7 col9\" >-0</td>\n",
       "            </tr>\n",
       "            <tr>\n",
       "                        <th id=\"T_68b37162_4ebc_11ea_bd0d_98af6526b7f8level0_row8\" class=\"row_heading level0 row8\" >VWM</th>\n",
       "                        <td id=\"T_68b37162_4ebc_11ea_bd0d_98af6526b7f8row8_col0\" class=\"data row8 col0\" >0.35</td>\n",
       "                        <td id=\"T_68b37162_4ebc_11ea_bd0d_98af6526b7f8row8_col1\" class=\"data row8 col1\" >-0.0008</td>\n",
       "                        <td id=\"T_68b37162_4ebc_11ea_bd0d_98af6526b7f8row8_col2\" class=\"data row8 col2\" >-0.012</td>\n",
       "                        <td id=\"T_68b37162_4ebc_11ea_bd0d_98af6526b7f8row8_col3\" class=\"data row8 col3\" >-0.13</td>\n",
       "                        <td id=\"T_68b37162_4ebc_11ea_bd0d_98af6526b7f8row8_col4\" class=\"data row8 col4\" >0.011</td>\n",
       "                        <td id=\"T_68b37162_4ebc_11ea_bd0d_98af6526b7f8row8_col5\" class=\"data row8 col5\" >-0.2</td>\n",
       "                        <td id=\"T_68b37162_4ebc_11ea_bd0d_98af6526b7f8row8_col6\" class=\"data row8 col6\" >-0.019</td>\n",
       "                        <td id=\"T_68b37162_4ebc_11ea_bd0d_98af6526b7f8row8_col7\" class=\"data row8 col7\" >-0</td>\n",
       "                        <td id=\"T_68b37162_4ebc_11ea_bd0d_98af6526b7f8row8_col8\" class=\"data row8 col8\" >1</td>\n",
       "                        <td id=\"T_68b37162_4ebc_11ea_bd0d_98af6526b7f8row8_col9\" class=\"data row8 col9\" >0.0012</td>\n",
       "            </tr>\n",
       "            <tr>\n",
       "                        <th id=\"T_68b37162_4ebc_11ea_bd0d_98af6526b7f8level0_row9\" class=\"row_heading level0 row9\" >VWN</th>\n",
       "                        <td id=\"T_68b37162_4ebc_11ea_bd0d_98af6526b7f8row9_col0\" class=\"data row9 col0\" >-0.0008</td>\n",
       "                        <td id=\"T_68b37162_4ebc_11ea_bd0d_98af6526b7f8row9_col1\" class=\"data row9 col1\" >0.35</td>\n",
       "                        <td id=\"T_68b37162_4ebc_11ea_bd0d_98af6526b7f8row9_col2\" class=\"data row9 col2\" >-0.012</td>\n",
       "                        <td id=\"T_68b37162_4ebc_11ea_bd0d_98af6526b7f8row9_col3\" class=\"data row9 col3\" >0.011</td>\n",
       "                        <td id=\"T_68b37162_4ebc_11ea_bd0d_98af6526b7f8row9_col4\" class=\"data row9 col4\" >-0.13</td>\n",
       "                        <td id=\"T_68b37162_4ebc_11ea_bd0d_98af6526b7f8row9_col5\" class=\"data row9 col5\" >-0.019</td>\n",
       "                        <td id=\"T_68b37162_4ebc_11ea_bd0d_98af6526b7f8row9_col6\" class=\"data row9 col6\" >-0.2</td>\n",
       "                        <td id=\"T_68b37162_4ebc_11ea_bd0d_98af6526b7f8row9_col7\" class=\"data row9 col7\" >-0</td>\n",
       "                        <td id=\"T_68b37162_4ebc_11ea_bd0d_98af6526b7f8row9_col8\" class=\"data row9 col8\" >0.0012</td>\n",
       "                        <td id=\"T_68b37162_4ebc_11ea_bd0d_98af6526b7f8row9_col9\" class=\"data row9 col9\" >1</td>\n",
       "            </tr>\n",
       "    </tbody></table>"
      ],
      "text/plain": [
       "<pandas.io.formats.style.Styler at 0x1fb09e0b2c8>"
      ]
     },
     "execution_count": 53,
     "metadata": {},
     "output_type": "execute_result"
    }
   ],
   "source": [
    "#Correlation matrix\n",
    "corr = datax.iloc[:,0:10].corr().round(4)\n",
    "corr.style.background_gradient(cmap='RdBu', axis= None).set_precision(2)"
   ]
  },
  {
   "cell_type": "code",
   "execution_count": 5,
   "metadata": {},
   "outputs": [],
   "source": [
    "#splitting the dataset\n",
    "x_train, x_test, y_train, y_test = train_test_split(datax.iloc[:,0:14], datax['Runs'], test_size = 0.3, random_state = 0)"
   ]
  },
  {
   "cell_type": "code",
   "execution_count": 6,
   "metadata": {},
   "outputs": [],
   "source": [
    "#scaling the data using the standard scaler\n",
    "from sklearn.preprocessing import StandardScaler\n",
    "scaler = StandardScaler()\n",
    "x_train = scaler.fit_transform(x_train)\n",
    "\n",
    "x_test = scaler.fit_transform(x_test)\n",
    "one_column = np.ones((x_test.shape[0],1))\n",
    "x_test = np.concatenate((one_column, x_test), axis = 1)\n",
    "\n",
    "y_test = np.array(y_test).reshape((y_test.shape[0],1))"
   ]
  },
  {
   "cell_type": "code",
   "execution_count": 14,
   "metadata": {},
   "outputs": [],
   "source": [
    "#defining cost function\n",
    "\n",
    "def costFunction(x_train,y_train,theta):\n",
    "    tobesummed = np.power(((x_train @ theta.T)-y_train),2)\n",
    "    return np.sum(tobesummed)/(2 * len(x_train))"
   ]
  },
  {
   "cell_type": "code",
   "execution_count": 15,
   "metadata": {},
   "outputs": [],
   "source": [
    "# gradient descent algorithm\n",
    "def gradientDescent(x_train,y_train,theta,iterations,alpha, tol_run ,tolerance):\n",
    "    cost_train = []\n",
    "    cost_test = []\n",
    "    for i in range(iterations):\n",
    "        theta = theta - (alpha/len(x_train)) * np.sum(x_train * (x_train @ theta.T - y_train), axis=0)\n",
    "        cost = costFunction(x_train, y_train, theta)\n",
    "        cost_train.append(cost)\n",
    "        \n",
    "        cost = costFunction(x_test, y_test, theta)\n",
    "        cost_test.append(cost)\n",
    "        \n",
    "        if tol_run:\n",
    "            if (i>0) and(abs((cost_train[i]-cost_train[i-1])/cost_train[i-1]) < tolerance).any():\n",
    "                print(\"Gradient Descent algorithm converged after\", i+1, \"Iterations\")\n",
    "                break\n",
    "            \n",
    "    \n",
    "    return theta,cost_train, cost_test"
   ]
  },
  {
   "cell_type": "code",
   "execution_count": 16,
   "metadata": {},
   "outputs": [],
   "source": [
    "#defining linear regression function\n",
    "def linear_regression(x_train, y_train, alpha, iterations,tol_run=False, tolerance=10**-5):\n",
    "    n = x_train.shape[1]\n",
    "    one_column = np.ones((x_train.shape[0],1))\n",
    "    x_train = np.concatenate((one_column, x_train), axis = 1)\n",
    "    theta = np.zeros((1,n+1))\n",
    "    y_train = np.array(y_train).reshape((y_train.shape[0],1))\n",
    "    theta, cost_train, cost_test = gradientDescent(x_train,y_train,theta,iterations,alpha, tol_run,tolerance)\n",
    "    \n",
    "    return theta,cost_train, cost_test"
   ]
  },
  {
   "cell_type": "code",
   "execution_count": 23,
   "metadata": {},
   "outputs": [],
   "source": [
    "#defining test function\n",
    "def test(x_test,theta):\n",
    "    #scaler = StandardScaler()\n",
    "    #X_test = scaler.fit_transform(X_test)\n",
    "\n",
    "    #one_column = np.ones((X_test.shape[0],1))\n",
    "    #X_test = np.concatenate((one_column, X_test), axis = 1)\n",
    "\n",
    "    return x_test@theta.T"
   ]
  },
  {
   "cell_type": "code",
   "execution_count": 70,
   "metadata": {},
   "outputs": [
    {
     "name": "stdout",
     "output_type": "stream",
     "text": [
      "\n",
      "######---- Iteration with alpha value 0.0001 -----#####\n",
      "\n",
      "######---- Iteration with alpha value 0.001 -----#####\n",
      "\n",
      "######---- Iteration with alpha value 0.01 -----#####\n",
      "\n",
      "######---- Iteration with alpha value 0.1 -----#####\n"
     ]
    }
   ],
   "source": [
    "#Running linear regression for various values of alpha\n",
    "alpha_val = [0.0001, 0.001, 0.01, 0.1]\n",
    "train_theta = []\n",
    "train_cost = []\n",
    "\n",
    "test_cost = []\n",
    "\n",
    "\n",
    "for i in range(len(alpha_val)):\n",
    "    print(\"\\n######---- Iteration with alpha value\", alpha_val[i],\"-----#####\")\n",
    "    \n",
    "    theta, trainCost, testCost = linear_regression(x_train, y_train, alpha_val[i], 10000, False)\n",
    "    \n",
    "    train_theta.append(theta)\n",
    "    train_cost.append(trainCost)\n",
    "    \n",
    "    test_cost.append(testCost)"
   ]
  },
  {
   "cell_type": "code",
   "execution_count": 71,
   "metadata": {},
   "outputs": [
    {
     "data": {
      "image/png": "[encoded data removed]",
      "text/plain": [
       "<Figure size 432x288 with 1 Axes>"
      ]
     },
     "metadata": {
      "needs_background": "light"
     },
     "output_type": "display_data"
    },
    {
     "data": {
      "image/png": "[encoded data removed]",
      "text/plain": [
       "<Figure size 432x288 with 1 Axes>"
      ]
     },
     "metadata": {
      "needs_background": "light"
     },
     "output_type": "display_data"
    },
    {
     "data": {
      "image/png": "[encoded data removed]",
      "text/plain": [
       "<Figure size 432x288 with 1 Axes>"
      ]
     },
     "metadata": {
      "needs_background": "light"
     },
     "output_type": "display_data"
    },
    {
     "data": {
      "image/png": "[encoded data removed]",
      "text/plain": [
       "<Figure size 432x288 with 1 Axes>"
      ]
     },
     "metadata": {
      "needs_background": "light"
     },
     "output_type": "display_data"
    }
   ],
   "source": [
    "#plotting cost vs iterations plot\n",
    "fig = plt.figure()\n",
    "\n",
    "ax1 = fig.add_subplot(2,2,1)\n",
    "\n",
    "ax1.plot(range(len(train_cost[0])),train_cost[0],'-b', label=\"Train\")\n",
    "ax1.plot(range(len(test_cost[0])),test_cost[0],'-r', label=\"Test\")\n",
    "ax1.legend(loc=\"upper right\")\n",
    "ax1.set_title(\"Cost vs Iterations for Alpha = 0.0001\")\n",
    "ax1.set_ylabel(\"Cost\")\n",
    "ax1.set_xlabel(\"Iterations\")\n",
    "plt.show()\n",
    "\n",
    "fig = plt.figure()\n",
    "\n",
    "ax1 = fig.add_subplot(2,2,2)\n",
    "\n",
    "ax1.plot(range(len(train_cost[1])),train_cost[1],'-b', label=\"Train\")\n",
    "ax1.plot(range(len(test_cost[1])),test_cost[1],'-r', label=\"Test\")\n",
    "ax1.legend(loc=\"upper right\")\n",
    "ax1.set_title(\"Cost vs Iterations for Alpha = 0.001\")\n",
    "ax1.set_ylabel(\"Cost\")\n",
    "ax1.set_xlabel(\"Iterations\")\n",
    "plt.show()\n",
    "\n",
    "fig = plt.figure()\n",
    "\n",
    "ax1 = fig.add_subplot(2,2,3)\n",
    "\n",
    "ax1.plot(range(len(train_cost[2])),train_cost[2],'-b', label=\"Train\")\n",
    "ax1.plot(range(len(test_cost[2])),test_cost[2],'-r', label=\"Test\")\n",
    "ax1.legend(loc=\"upper right\")\n",
    "ax1.set_title(\"Cost vs Iterations for Alpha = 0.01\")\n",
    "ax1.set_ylabel(\"Cost\")\n",
    "ax1.set_xlabel(\"Iterations\")\n",
    "plt.show()\n",
    "\n",
    "fig = plt.figure()\n",
    "\n",
    "ax1 = fig.add_subplot(2,2,4)\n",
    "\n",
    "ax1.plot(range(len(train_cost[3])),train_cost[3],'-b', label=\"Train\")\n",
    "ax1.plot(range(len(test_cost[3])),test_cost[3],'-r', label=\"Test\")\n",
    "ax1.legend(loc=\"upper right\")\n",
    "ax1.set_title(\"Cost vs Iterations for Alpha = 0.1\")\n",
    "ax1.set_ylabel(\"Cost\")\n",
    "ax1.set_xlabel(\"Iterations\")\n",
    "plt.show()"
   ]
  },
  {
   "cell_type": "code",
   "execution_count": 19,
   "metadata": {},
   "outputs": [
    {
     "data": {
      "image/png": "[encoded data removed]",
      "text/plain": [
       "<Figure size 432x288 with 1 Axes>"
      ]
     },
     "metadata": {
      "needs_background": "light"
     },
     "output_type": "display_data"
    }
   ],
   "source": [
    "#plotting Cost vs Iterations for Train\n",
    "fig = plt.figure()\n",
    "\n",
    "ax2 = fig.add_subplot(1,1,1)\n",
    "\n",
    "ax2.plot(range(len(train_cost[0])),train_cost[0],'-b', label=\"0.0001\")\n",
    "ax2.plot(range(len(train_cost[1])),train_cost[1],'-r', label=\"0.001\")\n",
    "ax2.plot(range(len(train_cost[2])),train_cost[2],'-g', label=\"0.01\")\n",
    "ax2.plot(range(len(train_cost[3])),train_cost[3],'-y', label=\"0.1\")\n",
    "ax2.legend(loc=\"upper right\")\n",
    "ax2.set_title(\"Cost vs Iterations for Train\")\n",
    "ax2.set_ylabel(\"Cost\")\n",
    "ax2.set_xlabel(\"Iterations\")\n",
    "plt.show()"
   ]
  },
  {
   "cell_type": "code",
   "execution_count": 20,
   "metadata": {},
   "outputs": [
    {
     "data": {
      "image/png": "[encoded data removed]",
      "text/plain": [
       "<Figure size 432x288 with 1 Axes>"
      ]
     },
     "metadata": {
      "needs_background": "light"
     },
     "output_type": "display_data"
    }
   ],
   "source": [
    "#plotting Cost vs Iterations for Test\n",
    "fig = plt.figure()\n",
    "\n",
    "ax2 = fig.add_subplot(1,1,1)\n",
    "\n",
    "ax2.plot(range(len(test_cost[0])),test_cost[0],'-b', label=\"0.0001\")\n",
    "ax2.plot(range(len(test_cost[1])),test_cost[1],'-r', label=\"0.001\")\n",
    "ax2.plot(range(len(test_cost[2])),test_cost[2],'-g', label=\"0.01\")\n",
    "ax2.plot(range(len(test_cost[3])),test_cost[3],'-y', label=\"0.1\")\n",
    "ax2.legend(loc=\"upper right\")\n",
    "ax2.set_title(\"Cost vs Iterations for Test\")\n",
    "ax2.set_ylabel(\"Cost\")\n",
    "ax2.set_xlabel(\"Iterations\")\n",
    "plt.show()"
   ]
  },
  {
   "cell_type": "code",
   "execution_count": 21,
   "metadata": {},
   "outputs": [
    {
     "data": {
      "text/plain": [
       "[0.0001, 0.001, 0.01, 0.1]"
      ]
     },
     "execution_count": 21,
     "metadata": {},
     "output_type": "execute_result"
    }
   ],
   "source": [
    "alpha_val"
   ]
  },
  {
   "cell_type": "code",
   "execution_count": 25,
   "metadata": {},
   "outputs": [],
   "source": [
    "# Prediction for Train and RMSE Train\n",
    "\n",
    "one_column = np.ones((x_train.shape[0],1))\n",
    "training_set = np.concatenate((one_column, x_train), axis = 1)\n",
    "\n",
    "y_prediction = []\n",
    "for i in range(len(alpha_val)):\n",
    "    y_pred = test(training_set,train_theta[i])\n",
    "    y_prediction.append(y_pred)\n",
    "    \n",
    "\n",
    "from sklearn import metrics\n",
    "rmse_train = []\n",
    "for i in range(len(alpha_val)):\n",
    "    rmse = np.sqrt(metrics.mean_squared_error(y_train, y_prediction[i]))\n",
    "    rmse_train.append(rmse)"
   ]
  },
  {
   "cell_type": "code",
   "execution_count": 26,
   "metadata": {},
   "outputs": [],
   "source": [
    "#### Prediction for Test and RMSE\n",
    "\n",
    "y_prediction = []\n",
    "for i in range(len(alpha_val)):\n",
    "    y_pred = test(x_test,train_theta[i])\n",
    "    y_prediction.append(y_pred)\n",
    "    \n",
    "\n",
    "from sklearn import metrics\n",
    "rmse_test = []\n",
    "for i in range(len(alpha_val)):\n",
    "    rmse = np.sqrt(metrics.mean_squared_error(y_test, y_prediction[i]))\n",
    "    rmse_test.append(rmse)"
   ]
  },
  {
   "cell_type": "code",
   "execution_count": 28,
   "metadata": {},
   "outputs": [
    {
     "data": {
      "image/png": "[encoded data removed]",
      "text/plain": [
       "<Figure size 432x288 with 1 Axes>"
      ]
     },
     "metadata": {
      "needs_background": "light"
     },
     "output_type": "display_data"
    }
   ],
   "source": [
    "fig = plt.figure()\n",
    "\n",
    "rmse_plot = fig.add_subplot(1,1,1)\n",
    "\n",
    "rmse_plot.plot(np.log10(alpha_val),rmse_train,'-b', label='RMSE_Train')\n",
    "rmse_plot.plot(np.log10(alpha_val),rmse_test,'-r', label='RMSE_Test')\n",
    "rmse_plot.legend(loc=\"upper right\")\n",
    "#rmse_plot.set_title(\"Cost vs Iterations for Test\")\n",
    "rmse_plot.set_ylabel(\"RMSE\")\n",
    "rmse_plot.set_xlabel(\"Log(Alpha)\")\n",
    "#rmse_plot.set_xlim([0.001,1])\n",
    "plt.show()"
   ]
  },
  {
   "cell_type": "code",
   "execution_count": 29,
   "metadata": {},
   "outputs": [
    {
     "data": {
      "text/plain": [
       "[315.1876506376328, 284.77722698182737, 284.77591588181133, 284.77591588181133]"
      ]
     },
     "execution_count": 29,
     "metadata": {},
     "output_type": "execute_result"
    }
   ],
   "source": [
    "rmse_train"
   ]
  },
  {
   "cell_type": "code",
   "execution_count": 54,
   "metadata": {},
   "outputs": [
    {
     "name": "stdout",
     "output_type": "stream",
     "text": [
      "The best alpha is 0.001\n",
      "\n",
      "######---- Iteration with tolerance value 1e-08 -----#####\n",
      "Gradient Descent algorithm converged after 1214 Iterations\n",
      "\n",
      "######---- Iteration with tolerance value 1e-07 -----#####\n",
      "Gradient Descent algorithm converged after 996 Iterations\n",
      "\n",
      "######---- Iteration with tolerance value 1e-06 -----#####\n",
      "Gradient Descent algorithm converged after 778 Iterations\n",
      "\n",
      "######---- Iteration with tolerance value 1e-05 -----#####\n",
      "Gradient Descent algorithm converged after 561 Iterations\n",
      "\n",
      "######---- Iteration with tolerance value 0.0001 -----#####\n",
      "Gradient Descent algorithm converged after 352 Iterations\n"
     ]
    }
   ],
   "source": [
    "print(\"The best alpha is 0.001\")\n",
    "toler_val = [10**-8, 10**-7, 10**-6, 10**-5, 10**-4]\n",
    "train_theta = []\n",
    "train_cost = []\n",
    "\n",
    "test_cost = []\n",
    "\n",
    "\n",
    "for i in range(len(toler_val)):\n",
    "    print(\"\\n######---- Iteration with tolerance value\", toler_val[i],\"-----#####\")\n",
    "    \n",
    "    theta, trainCost, testCost = linear_regression(x_train, y_train, 0.01, 10000, True, toler_val[i])\n",
    "    \n",
    "    train_theta.append(theta)\n",
    "    train_cost.append(trainCost)\n",
    "    \n",
    "    test_cost.append(testCost)"
   ]
  },
  {
   "cell_type": "code",
   "execution_count": 55,
   "metadata": {},
   "outputs": [],
   "source": [
    "# Prediction for Train and RMSE Train\n",
    "\n",
    "one_column = np.ones((x_train.shape[0],1))\n",
    "training_set = np.concatenate((one_column, x_train), axis = 1)\n",
    "\n",
    "y_prediction = []\n",
    "for i in range(len(toler_val)):\n",
    "    y_pred = test(training_set,train_theta[i])\n",
    "    y_prediction.append(y_pred)\n",
    "    \n",
    "\n",
    "from sklearn import metrics\n",
    "rmse_train = []\n",
    "for i in range(len(toler_val)):\n",
    "    rmse = np.sqrt(metrics.mean_squared_error(y_train, y_prediction[i]))\n",
    "    rmse_train.append(rmse)"
   ]
  },
  {
   "cell_type": "code",
   "execution_count": 56,
   "metadata": {},
   "outputs": [],
   "source": [
    "#### Prediction for Test and RMSE\n",
    "\n",
    "y_prediction = []\n",
    "for i in range(len(toler_val)):\n",
    "    y_pred = test(x_test,train_theta[i])\n",
    "    y_prediction.append(y_pred)\n",
    "    \n",
    "\n",
    "from sklearn import metrics\n",
    "rmse_test = []\n",
    "for i in range(len(toler_val)):\n",
    "    rmse = np.sqrt(metrics.mean_squared_error(y_test, y_prediction[i]))\n",
    "    rmse_test.append(rmse)"
   ]
  },
  {
   "cell_type": "code",
   "execution_count": 57,
   "metadata": {},
   "outputs": [
    {
     "data": {
      "image/png": "[encoded data removed]",
      "text/plain": [
       "<Figure size 432x288 with 1 Axes>"
      ]
     },
     "metadata": {
      "needs_background": "light"
     },
     "output_type": "display_data"
    }
   ],
   "source": [
    "fig = plt.figure()\n",
    "\n",
    "rmse_plot = fig.add_subplot(1,1,1)\n",
    "\n",
    "rmse_plot.plot(np.log10(toler_val),rmse_train,'-b', label='RMSE_Train')\n",
    "rmse_plot.plot(np.log10(toler_val, ),rmse_test,'-r', label='RMSE_Test')\n",
    "rmse_plot.legend(loc=\"upper right\")\n",
    "#rmse_plot.set_title(\"Cost vs Iterations for Test\")\n",
    "rmse_plot.set_ylabel(\"RMSE\")\n",
    "rmse_plot.set_xlabel(\"Log(Tolerance Value)\")\n",
    "#rmse_plot.set_xlim([0.001,1])\n",
    "plt.show()"
   ]
  },
  {
   "cell_type": "code",
   "execution_count": 62,
   "metadata": {},
   "outputs": [
    {
     "name": "stdout",
     "output_type": "stream",
     "text": [
      "\n",
      "######---- Iteration =  100 -----#####\n",
      "\n",
      "######---- Iteration =  200 -----#####\n",
      "\n",
      "######---- Iteration =  300 -----#####\n",
      "\n",
      "######---- Iteration =  400 -----#####\n",
      "\n",
      "######---- Iteration =  500 -----#####\n",
      "\n",
      "######---- Iteration =  600 -----#####\n",
      "\n",
      "######---- Iteration =  700 -----#####\n",
      "\n",
      "######---- Iteration =  800 -----#####\n",
      "\n",
      "######---- Iteration =  900 -----#####\n",
      "\n",
      "######---- Iteration =  1000 -----#####\n"
     ]
    }
   ],
   "source": [
    "iters_2 = list(range(100, 1100, 100))\n",
    "train_theta = []\n",
    "train_cost = []\n",
    "\n",
    "test_cost = []\n",
    "\n",
    "\n",
    "for i in range(len(iters_2)):\n",
    "    print(\"\\n######---- Iteration = \", iters_2[i],\"-----#####\")\n",
    "    \n",
    "    theta, trainCost, testCost = linear_regression(x_train, y_train, 0.01, iters_2[i])\n",
    "    \n",
    "    train_theta.append(theta)\n",
    "    train_cost.append(trainCost)\n",
    "    \n",
    "    test_cost.append(testCost)"
   ]
  },
  {
   "cell_type": "code",
   "execution_count": 63,
   "metadata": {},
   "outputs": [],
   "source": [
    "# Prediction for Train and RMSE Train\n",
    "\n",
    "one_column = np.ones((x_train.shape[0],1))\n",
    "training_set = np.concatenate((one_column, x_train), axis = 1)\n",
    "\n",
    "y_prediction = []\n",
    "for i in range(len(iters_2)):\n",
    "    y_pred = test(training_set,train_theta[i])\n",
    "    y_prediction.append(y_pred)\n",
    "    \n",
    "\n",
    "from sklearn import metrics\n",
    "rmse_train = []\n",
    "for i in range(len(iters_2)):\n",
    "    rmse = np.sqrt(metrics.mean_squared_error(y_train, y_prediction[i]))\n",
    "    rmse_train.append(rmse)"
   ]
  },
  {
   "cell_type": "code",
   "execution_count": 64,
   "metadata": {},
   "outputs": [],
   "source": [
    "#### Prediction for Test and RMSE\n",
    "\n",
    "y_prediction = []\n",
    "for i in range(len(iters_2)):\n",
    "    y_pred = test(x_test,train_theta[i])\n",
    "    y_prediction.append(y_pred)\n",
    "    \n",
    "\n",
    "from sklearn import metrics\n",
    "rmse_test = []\n",
    "for i in range(len(iters_2)):\n",
    "    rmse = np.sqrt(metrics.mean_squared_error(y_test, y_prediction[i]))\n",
    "    rmse_test.append(rmse)"
   ]
  },
  {
   "cell_type": "code",
   "execution_count": 65,
   "metadata": {},
   "outputs": [
    {
     "data": {
      "image/png": "[encoded data removed]",
      "text/plain": [
       "<Figure size 432x288 with 1 Axes>"
      ]
     },
     "metadata": {
      "needs_background": "light"
     },
     "output_type": "display_data"
    }
   ],
   "source": [
    "fig = plt.figure()\n",
    "\n",
    "rmse_plot = fig.add_subplot(1,1,1)\n",
    "\n",
    "rmse_plot.plot(iters_2,rmse_train,'-b', label='RMSE_Train')\n",
    "rmse_plot.plot(iters_2,rmse_test,'-r', label='RMSE_Test')\n",
    "rmse_plot.legend(loc=\"upper right\")\n",
    "#rmse_plot.set_title(\"Cost vs Iterations for Test\")\n",
    "rmse_plot.set_ylabel(\"RMSE\")\n",
    "rmse_plot.set_xlabel(\"Iterations\")\n",
    "#rmse_plot.set_xlim([0.001,1])\n",
    "plt.show()"
   ]
  },
  {
   "cell_type": "code",
   "execution_count": null,
   "metadata": {},
   "outputs": [],
   "source": [
    "import random\n",
    "k = random.sample(range(0, 15), 8)\n",
    "\n",
    "# defining feature matrix(X) and response vector(y) \n",
    "X = gpu.iloc[:,0:8]\n",
    "y = gpu[\"avg_run\"]\n",
    "  \n",
    "\n",
    "\n",
    "# splitting X and y into training and testing sets \n",
    "from sklearn.model_selection import train_test_split \n",
    "from sklearn.linear_model import LinearRegression\n",
    "X_train, X_test, y_train, y_test = train_test_split(X, y, test_size=0.3, \n",
    "                                                    random_state=1) \n",
    "\n",
    "from sklearn.preprocessing import StandardScaler\n",
    "scaler = StandardScaler()\n",
    "X_train = scaler.fit_transform(X_train)\n",
    "\n",
    "X_test = scaler.fit_transform(X_test)\n",
    "one_column = np.ones((X_test.shape[0],1))\n",
    "X_test = np.concatenate((one_column, X_test), axis = 1)\n",
    "\n",
    "y_test = np.array(y_test).reshape((y_test.shape[0],1))"
   ]
  },
  {
   "cell_type": "code",
   "execution_count": null,
   "metadata": {},
   "outputs": [],
   "source": [
    "print(\"The best alpha is 0.1\")\n",
    "print(\"The best tolerance value is 10^-4\")"
   ]
  },
  {
   "cell_type": "code",
   "execution_count": null,
   "metadata": {},
   "outputs": [],
   "source": [
    "alpha = 0.1\n",
    "tolerance = 10**-4\n",
    "theta_8, trainCost_8, testCost_8 = linear_regression(X_train, y_train,alpha , 10000, True, 10**-4)"
   ]
  },
  {
   "cell_type": "code",
   "execution_count": null,
   "metadata": {},
   "outputs": [],
   "source": [
    "# Prediction for Train and RMSE Train\n",
    "\n",
    "one_column = np.ones((X_train.shape[0],1))\n",
    "training_set = np.concatenate((one_column, X_train), axis = 1)\n",
    "\n",
    "y_train_pred8 = test(training_set,theta_8)\n",
    "rmse_train8 = np.sqrt(metrics.mean_squared_error(y_train, y_train_pred8))"
   ]
  },
  {
   "cell_type": "code",
   "execution_count": null,
   "metadata": {},
   "outputs": [],
   "source": [
    "y_test = np.array(y_test).reshape((y_test.shape[0],1))\n",
    "y_test_pred8 = test(X_test,theta_8)\n",
    "rmse_test8 = np.sqrt(metrics.mean_squared_error(y_test, y_test_pred8))"
   ]
  },
  {
   "cell_type": "code",
   "execution_count": null,
   "metadata": {},
   "outputs": [],
   "source": [
    "print(rmse_train8)\n",
    "print(rmse_test8)"
   ]
  },
  {
   "cell_type": "code",
   "execution_count": null,
   "metadata": {},
   "outputs": [],
   "source": [
    "best_features = [0,1,2,3,4,7,12,13]"
   ]
  },
  {
   "cell_type": "code",
   "execution_count": null,
   "metadata": {},
   "outputs": [],
   "source": [
    "# defining feature matrix(X) and response vector(y) \n",
    "X = df.iloc[:,best_features]\n",
    "y = df[\"avg_run\"]\n",
    "  \n",
    "\n",
    "\n",
    "# splitting X and y into training and testing sets \n",
    "from sklearn.model_selection import train_test_split \n",
    "from sklearn.linear_model import LinearRegression\n",
    "X_train, X_test, y_train, y_test = train_test_split(X, y, test_size=0.3, \n",
    "                                                    random_state=1) \n",
    "\n",
    "from sklearn.preprocessing import StandardScaler\n",
    "scaler = StandardScaler()\n",
    "X_train = scaler.fit_transform(X_train)\n",
    "\n",
    "X_test = scaler.fit_transform(X_test)\n",
    "one_column = np.ones((X_test.shape[0],1))\n",
    "X_test = np.concatenate((one_column, X_test), axis = 1)\n",
    "\n",
    "y_test = np.array(y_test).reshape((y_test.shape[0],1))"
   ]
  },
  {
   "cell_type": "code",
   "execution_count": null,
   "metadata": {},
   "outputs": [],
   "source": [
    "print(\"The best alpha is 0.1\")\n",
    "print(\"The best tolerance value is 10^-4\")"
   ]
  },
  {
   "cell_type": "code",
   "execution_count": null,
   "metadata": {},
   "outputs": [],
   "source": [
    "alpha = 0.1\n",
    "tolerance = 10**-4\n",
    "theta_best, trainCost_best, testCost_best = linear_regression(X_train, y_train,alpha , 10000, True, 10**-4)"
   ]
  },
  {
   "cell_type": "code",
   "execution_count": null,
   "metadata": {},
   "outputs": [],
   "source": [
    "# Prediction for Train and RMSE Train\n",
    "\n",
    "one_column = np.ones((X_train.shape[0],1))\n",
    "training_set = np.concatenate((one_column, X_train), axis = 1)\n",
    "\n",
    "y_train_pred_best = test(training_set,theta_best)\n",
    "rmse_train_best = np.sqrt(metrics.mean_squared_error(y_train, y_train_pred_best))"
   ]
  },
  {
   "cell_type": "code",
   "execution_count": null,
   "metadata": {},
   "outputs": [],
   "source": [
    "y_test = np.array(y_test).reshape((y_test.shape[0],1))\n",
    "y_test_pred_best = test(X_test,theta_8)\n",
    "rmse_test_best = np.sqrt(metrics.mean_squared_error(y_test, y_test_pred_best))"
   ]
  },
  {
   "cell_type": "code",
   "execution_count": null,
   "metadata": {},
   "outputs": [],
   "source": [
    "print(rmse_test_best)\n",
    "print(rmse_train_best)"
   ]
  },
  {
   "cell_type": "code",
   "execution_count": null,
   "metadata": {},
   "outputs": [],
   "source": []
  }
 ],
 "metadata": {
  "kernelspec": {
   "display_name": "Python 3",
   "language": "python",
   "name": "python3"
  },
  "language_info": {
   "codemirror_mode": {
    "name": "ipython",
    "version": 3
   },
   "file_extension": ".py",
   "mimetype": "text/x-python",
   "name": "python",
   "nbconvert_exporter": "python",
   "pygments_lexer": "ipython3",
   "version": "3.7.4"
  }
 },
 "nbformat": 4,
 "nbformat_minor": 2
}
